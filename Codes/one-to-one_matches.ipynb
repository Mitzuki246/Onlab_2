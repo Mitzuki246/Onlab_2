{
 "cells": [
  {
   "cell_type": "code",
   "execution_count": 58,
   "id": "bf42f12c-40c3-4bcc-b38f-43a06548405c",
   "metadata": {},
   "outputs": [],
   "source": [
    "import xml.etree.ElementTree as ET\n",
    "import pandas as pd\n",
    "import time\n",
    "\n",
    "from difflib import SequenceMatcher"
   ]
  },
  {
   "cell_type": "markdown",
   "id": "7f0bbd93-af29-44c9-84e1-27b55237d2d7",
   "metadata": {},
   "source": [
    "## Preprocessing and extract XSD elements"
   ]
  },
  {
   "cell_type": "code",
   "execution_count": 39,
   "id": "44e422fe-1172-4ec7-9cdd-26f1a00be73a",
   "metadata": {},
   "outputs": [],
   "source": [
    "def parse_tag_meaning(file_path):\n",
    "    tag_meanings = {}\n",
    "    with open(file_path, 'r', encoding='utf-8') as file:\n",
    "        for line in file:\n",
    "            if \"=>\" in line:\n",
    "                key, value = line.split(\"==>\")\n",
    "                tag_meanings[key.strip()] = value.strip()\n",
    "    return tag_meanings\n",
    "\n",
    "def extract_xsd_elements(xsd_file):\n",
    "    tree = ET.parse(xsd_file)\n",
    "    root = tree.getroot()\n",
    "    elements = []\n",
    "    for elem in root.iter():\n",
    "        if 'name' in elem.attrib:\n",
    "            elements.append(elem.attrib['name'])\n",
    "    return elements"
   ]
  },
  {
   "cell_type": "markdown",
   "id": "3a0acb8a-3c96-4656-8ec1-606436fb5b2f",
   "metadata": {},
   "source": [
    "## Find 1 to 1 matches"
   ]
  },
  {
   "cell_type": "code",
   "execution_count": 42,
   "id": "1f7d8cec-c0aa-4d4c-9c59-96701a2cf2bc",
   "metadata": {},
   "outputs": [],
   "source": [
    "def find_best_matches(tag_meanings, xsd_elements):\n",
    "    matches = []\n",
    "    for tag, meaning in tag_meanings.items():\n",
    "        best_match = None\n",
    "        highest_similarity = 0\n",
    "        for element in xsd_elements:\n",
    "            similarity = SequenceMatcher(None, tag, element).ratio()\n",
    "            if similarity > highest_similarity:\n",
    "                highest_similarity = similarity\n",
    "                best_match = element\n",
    "        matches.append({\n",
    "            \"Tag\": tag,\n",
    "            \"Meaning\": meaning,\n",
    "            \"Match (XSD Element)\": best_match,\n",
    "            \"Similarity (%)\": round(highest_similarity * 100, 2)\n",
    "        })\n",
    "    return matches"
   ]
  },
  {
   "cell_type": "markdown",
   "id": "a1e88224-c7d8-417c-af35-86484dba7c7d",
   "metadata": {},
   "source": [
    "## Plot result"
   ]
  },
  {
   "cell_type": "code",
   "execution_count": 45,
   "id": "8dc06be4-9b3e-404b-87b0-becf651383f9",
   "metadata": {},
   "outputs": [],
   "source": [
    "def save_best_matches_to_csv(best_matches, output_file):\n",
    "    df = pd.DataFrame(best_matches)\n",
    "    sorted_df = df.sort_values(by=\"Similarity (%)\", ascending=False)\n",
    "    sorted_df.to_csv(output_file, index=False)\n",
    "    print(f\"Result saved to {output_file} file.\")"
   ]
  },
  {
   "cell_type": "code",
   "execution_count": 61,
   "id": "5847141d-858d-444f-a71e-2eb9bc08b4fc",
   "metadata": {},
   "outputs": [
    {
     "name": "stdout",
     "output_type": "stream",
     "text": [
      "Execution time 1 to 1: 1.6905243396759033 seconds\n",
      "Result saved to best_matches_output.csv file.\n"
     ]
    }
   ],
   "source": [
    "tags_meaning_file = 'TagsMeaning.txt'\n",
    "xsd_file = 'IPC-2581C.xsd'\n",
    "\n",
    "tag_meanings = parse_tag_meaning(tags_meaning_file)\n",
    "xsd_elements = extract_xsd_elements(xsd_file)\n",
    "\n",
    "start_time = time.time()\n",
    "\n",
    "best_matches = find_best_matches(tag_meanings, xsd_elements)\n",
    "\n",
    "end_time = time.time()\n",
    "print(f\"Execution time 1 to 1: {end_time - start_time} seconds\")\n",
    "\n",
    "output_file = 'best_matches_output.csv'\n",
    "save_best_matches_to_csv(best_matches, output_file)\n"
   ]
  },
  {
   "cell_type": "code",
   "execution_count": null,
   "id": "e65a05d1-21ab-47a2-b0a2-fac51ee8e2a6",
   "metadata": {},
   "outputs": [],
   "source": []
  },
  {
   "cell_type": "code",
   "execution_count": null,
   "id": "08596be4-d931-4d27-8ac7-b04b960d717f",
   "metadata": {},
   "outputs": [],
   "source": []
  }
 ],
 "metadata": {
  "kernelspec": {
   "display_name": "anaconda-2024.02-py310",
   "language": "python",
   "name": "conda-env-anaconda-2024.02-py310-py"
  },
  "language_info": {
   "codemirror_mode": {
    "name": "ipython",
    "version": 3
   },
   "file_extension": ".py",
   "mimetype": "text/x-python",
   "name": "python",
   "nbconvert_exporter": "python",
   "pygments_lexer": "ipython3",
   "version": "3.10.14"
  }
 },
 "nbformat": 4,
 "nbformat_minor": 5
}
