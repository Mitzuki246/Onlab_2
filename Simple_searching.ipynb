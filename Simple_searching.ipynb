{
 "cells": [
  {
   "cell_type": "code",
   "execution_count": 3,
   "id": "9c0ec7e2-cf91-44a3-80d2-fb3fe79c7bf3",
   "metadata": {},
   "outputs": [],
   "source": [
    "import re\n",
    "import time\n",
    "import string\n",
    "import pandas as pd\n",
    "\n",
    "import xml.etree.ElementTree as ET\n",
    "import matplotlib.pyplot as plt\n",
    "\n",
    "from difflib import get_close_matches\n",
    "from difflib import SequenceMatcher, get_close_matches"
   ]
  },
  {
   "cell_type": "markdown",
   "id": "45acd240-00a2-40de-8bb1-c157c4d2a46b",
   "metadata": {},
   "source": [
    "## Preprocessing and extract XSD elements"
   ]
  },
  {
   "cell_type": "code",
   "execution_count": 5,
   "id": "57579aa9-0120-4624-88b9-a46b5764d4cb",
   "metadata": {},
   "outputs": [],
   "source": [
    "xml_file1 = \"IPC-2581C.xsd\"\n",
    "xml_file2 = \"test_1.xml\"\n",
    "tags_meaning_file = \"TagsMeaning.txt\""
   ]
  },
  {
   "cell_type": "code",
   "execution_count": 6,
   "id": "e34cd247-2891-41f3-922f-27ee79b148fe",
   "metadata": {},
   "outputs": [],
   "source": [
    "def preprocess_text(text):\n",
    "    text = text.translate(str.maketrans(\"\", \"\", string.punctuation))\n",
    "    return text.lower().split()\n",
    "\n",
    "def extract_xsd_elements(root):\n",
    "    xsd_elements = []\n",
    "    for element in root.iter('{http://www.w3.org/2001/XMLSchema}simpleType'):\n",
    "        xsd_elements.append(preprocess_text(element.attrib['name']))\n",
    "    return xsd_elements"
   ]
  },
  {
   "cell_type": "code",
   "execution_count": 7,
   "id": "6d67125a-dac2-41ee-8675-b56121e97c5d",
   "metadata": {},
   "outputs": [],
   "source": [
    "def match_tags_with_xsd(tag_meaning_data, xsd_elements, match_type=\"exact\"):\n",
    "    matches = []\n",
    "    for tag, meaning in tag_meaning_data:\n",
    "        if match_type == \"exact\":\n",
    "            match = find_exact_matches(tag, meaning, xsd_elements)\n",
    "            matches.append((tag, meaning, match, 100 if match != \"No Match\" else 0))  # Assign 100% for exact matches\n",
    "        elif match_type == \"approximate\":\n",
    "            close_matches = find_approximate_matches(tag, meaning, xsd_elements)\n",
    "            matches.append((tag, meaning, close_matches))\n",
    "    return matches"
   ]
  },
  {
   "cell_type": "markdown",
   "id": "01efd7a3-53bd-4713-8c35-3a70122e6da4",
   "metadata": {},
   "source": [
    "## Exact match method"
   ]
  },
  {
   "cell_type": "code",
   "execution_count": 9,
   "id": "c7528de3-82f6-46e0-8a95-d8d11d089ad5",
   "metadata": {},
   "outputs": [],
   "source": [
    "def find_exact_matches(tag, meaning, xsd_elements):\n",
    "    tag_meaning_combined = \" \".join(preprocess_text(tag) + preprocess_text(meaning))\n",
    "    matches = get_close_matches(tag_meaning_combined, [\" \".join(elem) for elem in xsd_elements], n=5, cutoff= 1)\n",
    "    return matches[0] if matches else \"No Match\""
   ]
  },
  {
   "cell_type": "code",
   "execution_count": 10,
   "id": "9590239c-f493-4296-813f-cf1fd9ec717c",
   "metadata": {},
   "outputs": [],
   "source": [
    "def save_exact_match_to_csv(matches, output_file):\n",
    "    \n",
    "    cleaned_matches = []\n",
    "    for record in matches:\n",
    "        if len(record) == 4:\n",
    "            cleaned_matches.append(record)\n",
    "        else:\n",
    "            tag, meaning, match = record\n",
    "            cleaned_matches.append((tag, meaning, match, 0.0))\n",
    "    \n",
    "    data = []\n",
    "    for tag, meaning, match, score in cleaned_matches:\n",
    "        data.append({\n",
    "            \"Tag\": tag,\n",
    "            \"Meaning\": meaning,\n",
    "            \"Best Match (XSD Element)\": match,\n",
    "            \"Similarity (%)\": score\n",
    "        })\n",
    "    \n",
    "    df = pd.DataFrame(data)\n",
    "    sorted_df = df.sort_values(by=\"Similarity (%)\", ascending=False)\n",
    "    sorted_df.to_csv(output_file, index=False)\n",
    "    \n",
    "    print(f\"Exact matches saved to '{output_file}' successfully.\")"
   ]
  },
  {
   "cell_type": "markdown",
   "id": "19d9a056-0708-452e-a39c-bb970a543670",
   "metadata": {},
   "source": [
    "## Approximate match method"
   ]
  },
  {
   "cell_type": "code",
   "execution_count": 12,
   "id": "c1dba9f2-dae8-42fc-b601-b5a1ceaa7126",
   "metadata": {},
   "outputs": [],
   "source": [
    "def find_approximate_matches(tag, meaning, xsd_elements, threshold=40):\n",
    "    tag_meaning_combined = \" \".join(preprocess_text(tag) + preprocess_text(meaning))\n",
    "    xsd_words = [\" \".join(elem) for elem in xsd_elements]\n",
    "    \n",
    "    scores = []\n",
    "    for elem in xsd_words:\n",
    "        similarity_percentage = SequenceMatcher(None, tag_meaning_combined, elem).ratio() * 100\n",
    "        if similarity_percentage >= threshold:\n",
    "            scores.append((elem, similarity_percentage))\n",
    "    \n",
    "    return scores if scores else [(\"No Close Match\", 0)]"
   ]
  },
  {
   "cell_type": "code",
   "execution_count": 20,
   "id": "181f8955-b5ed-4313-9e36-db4d9d22603e",
   "metadata": {},
   "outputs": [],
   "source": [
    "def save_approximate_matches_to_csv(matches, output_file):\n",
    "    \n",
    "    data = [\n",
    "        {\n",
    "            \"Tag\": tag,\n",
    "            \"Meaning\": meaning,\n",
    "            \"Best Match (XSD Element)\": match_list[0][0] if match_list else \"No Match\",\n",
    "            \"Similarity (%)\": match_list[0][1] if match_list and match_list[0][1] != \"No Close Match\" else \"0.00%\"\n",
    "        }\n",
    "        for tag, meaning, match_list in matches\n",
    "    ]\n",
    "    \n",
    "    df = pd.DataFrame(data)\n",
    "    sorted_df = df.sort_values(by=\"Similarity (%)\", ascending=False)\n",
    "    sorted_df.to_csv(output_file, index=False)\n",
    "    \n",
    "    print(f\"Approximate matches saved to '{output_file}' successfully.\")"
   ]
  },
  {
   "cell_type": "markdown",
   "id": "682ce511-93e2-4f79-af48-e2133cd0d106",
   "metadata": {},
   "source": [
    "## Plot result"
   ]
  },
  {
   "cell_type": "code",
   "execution_count": 23,
   "id": "6be54cba-56cf-493f-a8d6-b2a4e6d02783",
   "metadata": {},
   "outputs": [],
   "source": [
    "tree = ET.parse('IPC-2581C.xsd')\n",
    "root = tree.getroot()\n",
    "xsd_elements = extract_xsd_elements(root)\n",
    "\n",
    "tag_meaning_data = []\n",
    "with open('TagsMeaning.txt', 'r', encoding='utf-8') as file:\n",
    "    for line in file:\n",
    "        if '==>' in line:\n",
    "            tag, meaning = line.strip().split('==>')\n",
    "            tag_meaning_data.append((tag.strip(), meaning.strip()))"
   ]
  },
  {
   "cell_type": "code",
   "execution_count": 29,
   "id": "d7577b26-7219-412f-9036-2c3a13a7778b",
   "metadata": {},
   "outputs": [
    {
     "name": "stdout",
     "output_type": "stream",
     "text": [
      "Exact matches saved to 'exact_matches_output_noprep.csv' successfully.\n",
      "Execution time exact matches: 0.024883508682250977 seconds\n",
      "Approximate matches saved to 'approximate_matches_output_noprep.csv' successfully.\n",
      "Execution time approximate matches: 0.6329030990600586 seconds\n"
     ]
    }
   ],
   "source": [
    "start_time = time.time()\n",
    "\n",
    "exact_matches = match_tags_with_xsd(tag_meaning_data, xsd_elements, match_type=\"exact\")\n",
    "output_file_1 = 'exact_matches_output.csv'\n",
    "save_exact_match_to_csv(exact_matches, output_file_1)\n",
    "\n",
    "end_time = time.time()\n",
    "print(f\"Execution time exact matches: {end_time - start_time} seconds\")\n",
    "\n",
    "start_time = time.time()\n",
    "\n",
    "approximate_matches = match_tags_with_xsd(tag_meaning_data, xsd_elements, match_type=\"approximate\")\n",
    "output_file_2 = 'approximate_matches_output.csv'\n",
    "save_approximate_matches_to_csv(approximate_matches, output_file_2)\n",
    "\n",
    "end_time = time.time()\n",
    "print(f\"Execution time approximate matches: {end_time - start_time} seconds\")"
   ]
  },
  {
   "cell_type": "code",
   "execution_count": null,
   "id": "4063af4a-f685-454b-aaa8-daca899e3409",
   "metadata": {},
   "outputs": [],
   "source": []
  }
 ],
 "metadata": {
  "kernelspec": {
   "display_name": "anaconda-2022.05-py39",
   "language": "python",
   "name": "conda-env-anaconda-2022.05-py39-py"
  },
  "language_info": {
   "codemirror_mode": {
    "name": "ipython",
    "version": 3
   },
   "file_extension": ".py",
   "mimetype": "text/x-python",
   "name": "python",
   "nbconvert_exporter": "python",
   "pygments_lexer": "ipython3",
   "version": "3.9.12"
  }
 },
 "nbformat": 4,
 "nbformat_minor": 5
}
